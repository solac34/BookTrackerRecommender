{
 "cells": [
  {
   "cell_type": "code",
   "execution_count": 21,
   "id": "0a26c5b1",
   "metadata": {},
   "outputs": [],
   "source": [
    "import sqlite3\n",
    "import string\n",
    "from random import choice,randint"
   ]
  },
  {
   "cell_type": "markdown",
   "id": "e77c80e0",
   "metadata": {},
   "source": [
    "# Create logindata"
   ]
  },
  {
   "cell_type": "code",
   "execution_count": 22,
   "id": "e7dd7101",
   "metadata": {},
   "outputs": [],
   "source": [
    "charlist = string.ascii_letters"
   ]
  },
  {
   "cell_type": "code",
   "execution_count": 23,
   "id": "bd023a7e",
   "metadata": {},
   "outputs": [],
   "source": [
    "pwlist = string.punctuation + string.ascii_letters + '0123456789'"
   ]
  },
  {
   "cell_type": "code",
   "execution_count": 24,
   "id": "5593781b",
   "metadata": {},
   "outputs": [],
   "source": [
    "def uname(p):\n",
    "    return uname(p+1) + choice(charlist) if p < 3 else choice(charlist)"
   ]
  },
  {
   "cell_type": "code",
   "execution_count": 25,
   "id": "8d00574a",
   "metadata": {},
   "outputs": [],
   "source": [
    "def pw(checklist,p,l):\n",
    "    if p < l:\n",
    "        char = choice(pwlist)\n",
    "        if char in string.punctuation: checklist[0] = True \n",
    "        elif char in string.ascii_letters: checklist[1] = True\n",
    "        else: checklist[2] = True\n",
    "        return pw(checklist,p+1,l) + char\n",
    "    else:\n",
    "        if not all(checklist):\n",
    "            if not checklist[0]: \n",
    "                checklist[0] = True\n",
    "                return pw(checklist,p-1,l) + choice(string.punctuation)\n",
    "            if not checklist[1]:\n",
    "                checklist[1] = True\n",
    "                return pw(checklist,p-1,l) + choice(string.ascii_letters)\n",
    "            if not checklist[2]:\n",
    "                checklist[2] = True\n",
    "                return pw(checklist,p-1,l) + choice('0123456789') \n",
    "        return choice(pwlist)"
   ]
  },
  {
   "cell_type": "markdown",
   "id": "1f358b2f",
   "metadata": {},
   "source": [
    "### Write datas to sql db"
   ]
  },
  {
   "cell_type": "code",
   "execution_count": 26,
   "id": "a4964611",
   "metadata": {},
   "outputs": [],
   "source": [
    "con = sqlite3.connect('bookdbase.db')\n",
    "cursor = con.cursor()\n",
    "for i in range(1,104):\n",
    "    cursor.execute('insert into logindata values (?,?,?)',(i,uname(0),pw([False,False,False],0,randint(8,16))))\n",
    "    con.commit()\n",
    "con.close()"
   ]
  },
  {
   "cell_type": "markdown",
   "id": "aed70101",
   "metadata": {},
   "source": [
    "# CREATE RECORDS_ID TABLES"
   ]
  },
  {
   "cell_type": "code",
   "execution_count": 27,
   "id": "8280b845",
   "metadata": {},
   "outputs": [],
   "source": [
    "con = sqlite3.connect('bookdbase.db')\n",
    "cursor = con.cursor()\n",
    "for i in range(1,104):\n",
    "    cursor.execute(f'CREATE TABLE records_{i} (id INT,Name TEXT, Kind TEXT, Author TEXT,IsFiction INT, Page INT, Rating FLOAT,Note TEXT)')\n",
    "    con.commit()\n",
    "con.close()"
   ]
  },
  {
   "cell_type": "markdown",
   "id": "46912d6d",
   "metadata": {},
   "source": [
    "# CREATE BOOKS FOR EACH USER"
   ]
  },
  {
   "cell_type": "markdown",
   "id": "83e29556",
   "metadata": {},
   "source": [
    "### resource for booklist:  <a>https://www.theguardian.com/books/2019/sep/21/best-books-of-the-21st-century</a>"
   ]
  },
  {
   "cell_type": "code",
   "execution_count": 28,
   "id": "12b66173",
   "metadata": {},
   "outputs": [],
   "source": [
    "import requests\n",
    "from bs4 import BeautifulSoup\n",
    "\n",
    "response = requests.get(\"https://www.theguardian.com/books/2019/sep/21/best-books-of-the-21st-century\")\n",
    "soup = BeautifulSoup(response.content, 'html.parser')\n",
    "book2author = {}\n",
    "\n",
    "datas = [elm.text for elm in soup.find_all('span',{'class':'dcr-d3izhq'}) if elm.text not in [str(a) for a in range(101)]+['48 ']]\n",
    "\n",
    "for i in range(len(datas)):\n",
    "    if i % 2 == 0:\n",
    "        try:\n",
    "            book2author[datas[i]] = datas[i + 1].split(' ', 3)[1:3]\n",
    "        except:\n",
    "            print('dict created!')\n",
    "\n",
    "names = [name[:34] if len(name) > 34 else name for name in book2author.keys()]\n",
    "authors = [' '.join(author)[:17] for author in book2author.values()]\n",
    "kindlist =  ['adventure', 'classics', 'crime', 'fairy tales', 'fables',\n",
    "                             'fantasy', 'historical fict.', 'horror', 'humour and satire', 'literary fiction',\n",
    "                             'mystery', 'poetry', 'plays', 'romance', 'science fiction', 'short stories',\n",
    "                             'thrillers', 'war', \"women’s fiction\",\n",
    "                        'autobiography', 'biography', 'essays', 'history', 'politics',\n",
    "                        'non-fiction novel', 'self-help']\n",
    "kinds = [choice(kindlist) for i in range(100)]\n",
    "\n",
    "\n",
    "def get_fiction(kind):\n",
    "    return 1 if kind in ['adventure', 'classics', 'crime', 'fairy tales', 'fables',\n",
    "                             'fantasy', 'historical fict.', 'horror', 'humour and satire', 'literary fiction',\n",
    "                             'mystery', 'poetry', 'plays', 'romance', 'science fiction', 'short stories',\n",
    "                             'thrillers', 'war', \"women’s fiction\"] else 0\n",
    "is_fiction = [get_fiction(kinds[i]) for i in range(100)]\n",
    "\n",
    "pages = [randint(0,1499) for i in range(100)]\n",
    "\n",
    "\n",
    "namekind = {}\n",
    "for i in range(len(names)):\n",
    "    namekind[names[i]] = choice(kinds)\n",
    "kinds = [namekind[name] for name in names]\n",
    "con = sqlite3.connect('bookdbase.db')\n",
    "cursor = con.cursor()\n",
    "for u in range(3,104):\n",
    "    for i in range(randint(30,100)):\n",
    "        cursor.execute(f'insert into records_{u} VALUES(?,?,?,?,?,?,?,?)',(u,names[i],kinds[i],\n",
    "                                                                       authors[i],get_fiction(kinds[i]),\n",
    "                                                                           pages[i],randint(0,100)/10,'No notes added!'))\n",
    "        con.commit()\n",
    "con.close()"
   ]
  },
  {
   "cell_type": "code",
   "execution_count": null,
   "id": "dcab58a8",
   "metadata": {},
   "outputs": [],
   "source": []
  }
 ],
 "metadata": {
  "kernelspec": {
   "display_name": "Python 3 (ipykernel)",
   "language": "python",
   "name": "python3"
  },
  "language_info": {
   "codemirror_mode": {
    "name": "ipython",
    "version": 3
   },
   "file_extension": ".py",
   "mimetype": "text/x-python",
   "name": "python",
   "nbconvert_exporter": "python",
   "pygments_lexer": "ipython3",
   "version": "3.9.13"
  }
 },
 "nbformat": 4,
 "nbformat_minor": 5
}
