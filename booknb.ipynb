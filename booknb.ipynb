{
 "cells": [
  {
   "cell_type": "markdown",
   "id": "14c4ad88",
   "metadata": {},
   "source": [
    "# TO DO:\n",
    "#### 1-Recommender system yapmak\n",
    "<hr>"
   ]
  },
  {
   "cell_type": "code",
   "execution_count": 243,
   "id": "69402d67",
   "metadata": {},
   "outputs": [],
   "source": [
    "import numpy as np\n",
    "import pandas as pd"
   ]
  },
  {
   "cell_type": "code",
   "execution_count": 244,
   "id": "0712bfe5",
   "metadata": {},
   "outputs": [],
   "source": [
    "df = pd.read_csv('bookdata.csv')"
   ]
  },
  {
   "cell_type": "code",
   "execution_count": 245,
   "id": "3824262d",
   "metadata": {},
   "outputs": [],
   "source": [
    "df.drop('Unnamed: 0',axis=1,inplace=True)"
   ]
  },
  {
   "cell_type": "markdown",
   "id": "80502fc7",
   "metadata": {},
   "source": [
    "# DataFrame Information"
   ]
  },
  {
   "cell_type": "code",
   "execution_count": 246,
   "id": "fe8cc3e2",
   "metadata": {
    "scrolled": true
   },
   "outputs": [
    {
     "data": {
      "text/html": [
       "<div>\n",
       "<style scoped>\n",
       "    .dataframe tbody tr th:only-of-type {\n",
       "        vertical-align: middle;\n",
       "    }\n",
       "\n",
       "    .dataframe tbody tr th {\n",
       "        vertical-align: top;\n",
       "    }\n",
       "\n",
       "    .dataframe thead th {\n",
       "        text-align: right;\n",
       "    }\n",
       "</style>\n",
       "<table border=\"1\" class=\"dataframe\">\n",
       "  <thead>\n",
       "    <tr style=\"text-align: right;\">\n",
       "      <th></th>\n",
       "      <th>id</th>\n",
       "      <th>Book Names</th>\n",
       "      <th>Kinds</th>\n",
       "      <th>Authors</th>\n",
       "      <th>Is Fiction</th>\n",
       "      <th>Pages</th>\n",
       "      <th>Ratings</th>\n",
       "    </tr>\n",
       "  </thead>\n",
       "  <tbody>\n",
       "    <tr>\n",
       "      <th>0</th>\n",
       "      <td>3</td>\n",
       "      <td>I Feel Bad About My Neck</td>\n",
       "      <td>horror</td>\n",
       "      <td>Nora Ephron</td>\n",
       "      <td>1</td>\n",
       "      <td>1410</td>\n",
       "      <td>7.9</td>\n",
       "    </tr>\n",
       "    <tr>\n",
       "      <th>1</th>\n",
       "      <td>3</td>\n",
       "      <td>Broken Glass</td>\n",
       "      <td>non-fiction novel</td>\n",
       "      <td>Alain Mabanckou</td>\n",
       "      <td>0</td>\n",
       "      <td>332</td>\n",
       "      <td>3.7</td>\n",
       "    </tr>\n",
       "    <tr>\n",
       "      <th>2</th>\n",
       "      <td>3</td>\n",
       "      <td>The Girl With the Dragon Tattoo</td>\n",
       "      <td>non-fiction novel</td>\n",
       "      <td>Stieg Larsson</td>\n",
       "      <td>0</td>\n",
       "      <td>177</td>\n",
       "      <td>3.9</td>\n",
       "    </tr>\n",
       "  </tbody>\n",
       "</table>\n",
       "</div>"
      ],
      "text/plain": [
       "   id                       Book Names              Kinds          Authors  \\\n",
       "0   3         I Feel Bad About My Neck             horror      Nora Ephron   \n",
       "1   3                     Broken Glass  non-fiction novel  Alain Mabanckou   \n",
       "2   3  The Girl With the Dragon Tattoo  non-fiction novel    Stieg Larsson   \n",
       "\n",
       "   Is Fiction  Pages  Ratings  \n",
       "0           1   1410      7.9  \n",
       "1           0    332      3.7  \n",
       "2           0    177      3.9  "
      ]
     },
     "execution_count": 246,
     "metadata": {},
     "output_type": "execute_result"
    }
   ],
   "source": [
    "df.head(3)"
   ]
  },
  {
   "cell_type": "code",
   "execution_count": 247,
   "id": "314499e2",
   "metadata": {},
   "outputs": [
    {
     "name": "stdout",
     "output_type": "stream",
     "text": [
      "<class 'pandas.core.frame.DataFrame'>\n",
      "RangeIndex: 6493 entries, 0 to 6492\n",
      "Data columns (total 7 columns):\n",
      " #   Column      Non-Null Count  Dtype  \n",
      "---  ------      --------------  -----  \n",
      " 0   id          6493 non-null   int64  \n",
      " 1   Book Names  6493 non-null   object \n",
      " 2   Kinds       6493 non-null   object \n",
      " 3   Authors     6493 non-null   object \n",
      " 4   Is Fiction  6493 non-null   int64  \n",
      " 5   Pages       6493 non-null   int64  \n",
      " 6   Ratings     6493 non-null   float64\n",
      "dtypes: float64(1), int64(3), object(3)\n",
      "memory usage: 355.2+ KB\n"
     ]
    }
   ],
   "source": [
    "df.info()"
   ]
  },
  {
   "cell_type": "code",
   "execution_count": 248,
   "id": "aea82e9d",
   "metadata": {},
   "outputs": [
    {
     "data": {
      "text/html": [
       "<div>\n",
       "<style scoped>\n",
       "    .dataframe tbody tr th:only-of-type {\n",
       "        vertical-align: middle;\n",
       "    }\n",
       "\n",
       "    .dataframe tbody tr th {\n",
       "        vertical-align: top;\n",
       "    }\n",
       "\n",
       "    .dataframe thead th {\n",
       "        text-align: right;\n",
       "    }\n",
       "</style>\n",
       "<table border=\"1\" class=\"dataframe\">\n",
       "  <thead>\n",
       "    <tr style=\"text-align: right;\">\n",
       "      <th></th>\n",
       "      <th>id</th>\n",
       "      <th>Is Fiction</th>\n",
       "      <th>Pages</th>\n",
       "      <th>Ratings</th>\n",
       "    </tr>\n",
       "  </thead>\n",
       "  <tbody>\n",
       "    <tr>\n",
       "      <th>count</th>\n",
       "      <td>6493.000000</td>\n",
       "      <td>6493.000000</td>\n",
       "      <td>6493.000000</td>\n",
       "      <td>6493.000000</td>\n",
       "    </tr>\n",
       "    <tr>\n",
       "      <th>mean</th>\n",
       "      <td>52.976282</td>\n",
       "      <td>0.656245</td>\n",
       "      <td>822.813799</td>\n",
       "      <td>5.021300</td>\n",
       "    </tr>\n",
       "    <tr>\n",
       "      <th>std</th>\n",
       "      <td>29.259084</td>\n",
       "      <td>0.474997</td>\n",
       "      <td>408.842476</td>\n",
       "      <td>2.912512</td>\n",
       "    </tr>\n",
       "    <tr>\n",
       "      <th>min</th>\n",
       "      <td>3.000000</td>\n",
       "      <td>0.000000</td>\n",
       "      <td>8.000000</td>\n",
       "      <td>0.000000</td>\n",
       "    </tr>\n",
       "    <tr>\n",
       "      <th>25%</th>\n",
       "      <td>27.000000</td>\n",
       "      <td>0.000000</td>\n",
       "      <td>567.000000</td>\n",
       "      <td>2.500000</td>\n",
       "    </tr>\n",
       "    <tr>\n",
       "      <th>50%</th>\n",
       "      <td>52.000000</td>\n",
       "      <td>1.000000</td>\n",
       "      <td>878.000000</td>\n",
       "      <td>5.000000</td>\n",
       "    </tr>\n",
       "    <tr>\n",
       "      <th>75%</th>\n",
       "      <td>79.000000</td>\n",
       "      <td>1.000000</td>\n",
       "      <td>1183.000000</td>\n",
       "      <td>7.500000</td>\n",
       "    </tr>\n",
       "    <tr>\n",
       "      <th>max</th>\n",
       "      <td>103.000000</td>\n",
       "      <td>1.000000</td>\n",
       "      <td>1494.000000</td>\n",
       "      <td>10.000000</td>\n",
       "    </tr>\n",
       "  </tbody>\n",
       "</table>\n",
       "</div>"
      ],
      "text/plain": [
       "                id   Is Fiction        Pages      Ratings\n",
       "count  6493.000000  6493.000000  6493.000000  6493.000000\n",
       "mean     52.976282     0.656245   822.813799     5.021300\n",
       "std      29.259084     0.474997   408.842476     2.912512\n",
       "min       3.000000     0.000000     8.000000     0.000000\n",
       "25%      27.000000     0.000000   567.000000     2.500000\n",
       "50%      52.000000     1.000000   878.000000     5.000000\n",
       "75%      79.000000     1.000000  1183.000000     7.500000\n",
       "max     103.000000     1.000000  1494.000000    10.000000"
      ]
     },
     "execution_count": 248,
     "metadata": {},
     "output_type": "execute_result"
    }
   ],
   "source": [
    "df.describe()"
   ]
  },
  {
   "cell_type": "markdown",
   "id": "55323a51",
   "metadata": {},
   "source": [
    "## RECOMMENDER SYSTEM"
   ]
  },
  {
   "cell_type": "markdown",
   "id": "4d1be0b3",
   "metadata": {},
   "source": [
    "## Creating a user-based df"
   ]
  },
  {
   "cell_type": "code",
   "execution_count": 249,
   "id": "059db5cb",
   "metadata": {},
   "outputs": [],
   "source": [
    "rec_df = df.pivot_table(index='id',values='Ratings',columns='Book Names')"
   ]
  },
  {
   "cell_type": "code",
   "execution_count": 250,
   "id": "ab97f95b",
   "metadata": {
    "scrolled": true
   },
   "outputs": [
    {
     "data": {
      "text/html": [
       "<div>\n",
       "<style scoped>\n",
       "    .dataframe tbody tr th:only-of-type {\n",
       "        vertical-align: middle;\n",
       "    }\n",
       "\n",
       "    .dataframe tbody tr th {\n",
       "        vertical-align: top;\n",
       "    }\n",
       "\n",
       "    .dataframe thead th {\n",
       "        text-align: right;\n",
       "    }\n",
       "</style>\n",
       "<table border=\"1\" class=\"dataframe\">\n",
       "  <thead>\n",
       "    <tr style=\"text-align: right;\">\n",
       "      <th>Book Names</th>\n",
       "      <th>A Death in the Family</th>\n",
       "      <th>A Little Life</th>\n",
       "      <th>A Visit from The Goon Squad</th>\n",
       "      <th>Adults in the Room</th>\n",
       "      <th>Atonement</th>\n",
       "      <th>Austerlitz</th>\n",
       "      <th>Autumn</th>\n",
       "      <th>Bad Blood</th>\n",
       "      <th>Between the World and Me</th>\n",
       "      <th>Broken Glass</th>\n",
       "      <th>...</th>\n",
       "      <th>The Year of Magical Thinking</th>\n",
       "      <th>Thinking, Fast and Slow</th>\n",
       "      <th>This House of Grief</th>\n",
       "      <th>True History of the Kelly Gang</th>\n",
       "      <th>Underland</th>\n",
       "      <th>Visitation</th>\n",
       "      <th>White Teeth</th>\n",
       "      <th>Why Be Happy When You Could Be Nor</th>\n",
       "      <th>Wolf Hall</th>\n",
       "      <th>Women &amp; Power</th>\n",
       "    </tr>\n",
       "    <tr>\n",
       "      <th>id</th>\n",
       "      <th></th>\n",
       "      <th></th>\n",
       "      <th></th>\n",
       "      <th></th>\n",
       "      <th></th>\n",
       "      <th></th>\n",
       "      <th></th>\n",
       "      <th></th>\n",
       "      <th></th>\n",
       "      <th></th>\n",
       "      <th></th>\n",
       "      <th></th>\n",
       "      <th></th>\n",
       "      <th></th>\n",
       "      <th></th>\n",
       "      <th></th>\n",
       "      <th></th>\n",
       "      <th></th>\n",
       "      <th></th>\n",
       "      <th></th>\n",
       "      <th></th>\n",
       "    </tr>\n",
       "  </thead>\n",
       "  <tbody>\n",
       "    <tr>\n",
       "      <th>3</th>\n",
       "      <td>NaN</td>\n",
       "      <td>4.2</td>\n",
       "      <td>NaN</td>\n",
       "      <td>9.6</td>\n",
       "      <td>7.6</td>\n",
       "      <td>NaN</td>\n",
       "      <td>NaN</td>\n",
       "      <td>6.0</td>\n",
       "      <td>NaN</td>\n",
       "      <td>3.7</td>\n",
       "      <td>...</td>\n",
       "      <td>3.8</td>\n",
       "      <td>7.3</td>\n",
       "      <td>3.3</td>\n",
       "      <td>6.4</td>\n",
       "      <td>9.9</td>\n",
       "      <td>1.7</td>\n",
       "      <td>3.9</td>\n",
       "      <td>7.3</td>\n",
       "      <td>NaN</td>\n",
       "      <td>7.4</td>\n",
       "    </tr>\n",
       "    <tr>\n",
       "      <th>4</th>\n",
       "      <td>8.9</td>\n",
       "      <td>8.5</td>\n",
       "      <td>0.5</td>\n",
       "      <td>1.5</td>\n",
       "      <td>6.3</td>\n",
       "      <td>NaN</td>\n",
       "      <td>NaN</td>\n",
       "      <td>1.7</td>\n",
       "      <td>NaN</td>\n",
       "      <td>3.2</td>\n",
       "      <td>...</td>\n",
       "      <td>9.3</td>\n",
       "      <td>3.3</td>\n",
       "      <td>4.0</td>\n",
       "      <td>7.0</td>\n",
       "      <td>3.1</td>\n",
       "      <td>4.8</td>\n",
       "      <td>7.7</td>\n",
       "      <td>4.8</td>\n",
       "      <td>NaN</td>\n",
       "      <td>5.4</td>\n",
       "    </tr>\n",
       "    <tr>\n",
       "      <th>5</th>\n",
       "      <td>NaN</td>\n",
       "      <td>4.7</td>\n",
       "      <td>NaN</td>\n",
       "      <td>1.8</td>\n",
       "      <td>8.6</td>\n",
       "      <td>NaN</td>\n",
       "      <td>NaN</td>\n",
       "      <td>4.7</td>\n",
       "      <td>NaN</td>\n",
       "      <td>0.2</td>\n",
       "      <td>...</td>\n",
       "      <td>2.6</td>\n",
       "      <td>8.6</td>\n",
       "      <td>5.7</td>\n",
       "      <td>2.0</td>\n",
       "      <td>3.3</td>\n",
       "      <td>1.1</td>\n",
       "      <td>5.4</td>\n",
       "      <td>5.6</td>\n",
       "      <td>NaN</td>\n",
       "      <td>1.1</td>\n",
       "    </tr>\n",
       "  </tbody>\n",
       "</table>\n",
       "<p>3 rows × 100 columns</p>\n",
       "</div>"
      ],
      "text/plain": [
       "Book Names  A Death in the Family  A Little Life  A Visit from The Goon Squad  \\\n",
       "id                                                                              \n",
       "3                             NaN            4.2                          NaN   \n",
       "4                             8.9            8.5                          0.5   \n",
       "5                             NaN            4.7                          NaN   \n",
       "\n",
       "Book Names  Adults in the Room  Atonement  Austerlitz  Autumn  Bad Blood  \\\n",
       "id                                                                         \n",
       "3                          9.6        7.6         NaN     NaN        6.0   \n",
       "4                          1.5        6.3         NaN     NaN        1.7   \n",
       "5                          1.8        8.6         NaN     NaN        4.7   \n",
       "\n",
       "Book Names  Between the World and Me  Broken Glass  ...  \\\n",
       "id                                                  ...   \n",
       "3                                NaN           3.7  ...   \n",
       "4                                NaN           3.2  ...   \n",
       "5                                NaN           0.2  ...   \n",
       "\n",
       "Book Names  The Year of Magical Thinking  Thinking, Fast and Slow  \\\n",
       "id                                                                  \n",
       "3                                    3.8                      7.3   \n",
       "4                                    9.3                      3.3   \n",
       "5                                    2.6                      8.6   \n",
       "\n",
       "Book Names  This House of Grief  True History of the Kelly Gang  Underland  \\\n",
       "id                                                                           \n",
       "3                           3.3                             6.4        9.9   \n",
       "4                           4.0                             7.0        3.1   \n",
       "5                           5.7                             2.0        3.3   \n",
       "\n",
       "Book Names  Visitation  White Teeth  Why Be Happy When You Could Be Nor  \\\n",
       "id                                                                        \n",
       "3                  1.7          3.9                                 7.3   \n",
       "4                  4.8          7.7                                 4.8   \n",
       "5                  1.1          5.4                                 5.6   \n",
       "\n",
       "Book Names  Wolf Hall  Women & Power  \n",
       "id                                    \n",
       "3                 NaN            7.4  \n",
       "4                 NaN            5.4  \n",
       "5                 NaN            1.1  \n",
       "\n",
       "[3 rows x 100 columns]"
      ]
     },
     "execution_count": 250,
     "metadata": {},
     "output_type": "execute_result"
    }
   ],
   "source": [
    "rec_df.head(3)"
   ]
  },
  {
   "cell_type": "code",
   "execution_count": 292,
   "id": "859eafd5",
   "metadata": {},
   "outputs": [],
   "source": [
    "ratings = pd.DataFrame(df.groupby('Book Names')['Ratings'].mean())"
   ]
  },
  {
   "cell_type": "code",
   "execution_count": 293,
   "id": "7e6338cc",
   "metadata": {},
   "outputs": [],
   "source": [
    "ratings['num of ratings'] = df.groupby('Book Names')['Ratings'].count()"
   ]
  },
  {
   "cell_type": "code",
   "execution_count": 294,
   "id": "fb82ea08",
   "metadata": {},
   "outputs": [],
   "source": [
    "ratings.reset_index(inplace=True)"
   ]
  },
  {
   "cell_type": "code",
   "execution_count": 254,
   "id": "bc42a49f",
   "metadata": {},
   "outputs": [],
   "source": [
    "a_little_life = rec_df['A Little Life']"
   ]
  },
  {
   "cell_type": "code",
   "execution_count": 255,
   "id": "1f1d4363",
   "metadata": {},
   "outputs": [
    {
     "data": {
      "text/plain": [
       "Book Names\n",
       "Never Let Me Go                       1.0\n",
       "A Little Life                         1.0\n",
       "A Death in the Family                 NaN\n",
       "A Visit from The Goon Squad           NaN\n",
       "Adults in the Room                    NaN\n",
       "                                     ... \n",
       "Visitation                            NaN\n",
       "White Teeth                           NaN\n",
       "Why Be Happy When You Could Be Nor    NaN\n",
       "Wolf Hall                             NaN\n",
       "Women & Power                         NaN\n",
       "Length: 100, dtype: float64"
      ]
     },
     "execution_count": 255,
     "metadata": {},
     "output_type": "execute_result"
    }
   ],
   "source": [
    "rec_df.corrwith(rec_df[['A Little Life','Never Let Me Go']]).sort_values(ascending=False)"
   ]
  },
  {
   "cell_type": "code",
   "execution_count": 256,
   "id": "315a85da",
   "metadata": {},
   "outputs": [],
   "source": [
    "def get_recs(name):\n",
    "    try: return dict(rec_df.corrwith(rec_df[name]).sort_values(ascending=False)[1:5])\n",
    "    except: return False\n",
    "    "
   ]
  },
  {
   "cell_type": "code",
   "execution_count": 257,
   "id": "d5d50658",
   "metadata": {},
   "outputs": [],
   "source": [
    "def calc_recs(namelist):\n",
    "    userdict = {}\n",
    "    for name in namelist:\n",
    "        namedict = get_recs(name)\n",
    "        if not namedict: continue\n",
    "        for key in namedict.keys():\n",
    "            if key in namelist: continue\n",
    "            if key not in userdict.keys():\n",
    "                userdict[key] = [namedict[key]*10]\n",
    "            else: \n",
    "                userdict[key].append(namedict[key]*10)\n",
    "    for key in userdict.keys():\n",
    "        userdict[key] = sum(userdict[key])/len(userdict[key])*10\n",
    "    return userdict"
   ]
  },
  {
   "cell_type": "code",
   "execution_count": 258,
   "id": "cb55c40f",
   "metadata": {},
   "outputs": [
    {
     "name": "stdout",
     "output_type": "stream",
     "text": [
      "-----------------------------------------------\n",
      "| TOP 5 Recommendations based on your readings |\n",
      "|                    ----                      |\n",
      "|1| I Feel Bad About My Neck                   |\n",
      "-----------------------------------------------\n",
      "|2| Austerlitz                                 |\n",
      "-----------------------------------------------\n",
      "|3| The Shock Doctrine                         |\n",
      "-----------------------------------------------\n",
      "|4| Gilead                                     |\n",
      "-----------------------------------------------\n",
      "|5| Autumn                                     |\n",
      "-----------------------------------------------\n"
     ]
    }
   ],
   "source": [
    "print('-----------------------------------------------\\n| TOP 5 Recommendations based on your readings |\\n|                    ----                      |') \n",
    "for i,name in enumerate(pd.Series(calc_recs(['Wolf Hall','The Green Road','Adults in the Room','Oryx and Crake'])).sort_values(ascending=False)[:5].keys()):\n",
    "    print(f'|{i+1}| {name}{(43-len(name))*\" \"}|\\n-----------------------------------------------')\n",
    "    "
   ]
  },
  {
   "cell_type": "code",
   "execution_count": 259,
   "id": "84efd743",
   "metadata": {},
   "outputs": [
    {
     "data": {
      "text/plain": [
       "Book Names\n",
       "Outline by Rachel              5.961818\n",
       "Fun Home                       5.928846\n",
       "The Emperor of All Maladies    5.703846\n",
       "Brooklyn                       5.656944\n",
       "dtype: float64"
      ]
     },
     "execution_count": 259,
     "metadata": {},
     "output_type": "execute_result"
    }
   ],
   "source": [
    "rec_df.agg('mean').sort_values(ascending=False)[1:5]"
   ]
  },
  {
   "cell_type": "code",
   "execution_count": 299,
   "id": "8f431e76",
   "metadata": {},
   "outputs": [
    {
     "data": {
      "text/html": [
       "<div>\n",
       "<style scoped>\n",
       "    .dataframe tbody tr th:only-of-type {\n",
       "        vertical-align: middle;\n",
       "    }\n",
       "\n",
       "    .dataframe tbody tr th {\n",
       "        vertical-align: top;\n",
       "    }\n",
       "\n",
       "    .dataframe thead th {\n",
       "        text-align: right;\n",
       "    }\n",
       "</style>\n",
       "<table border=\"1\" class=\"dataframe\">\n",
       "  <thead>\n",
       "    <tr style=\"text-align: right;\">\n",
       "      <th></th>\n",
       "      <th>Book Names</th>\n",
       "      <th>Ratings</th>\n",
       "      <th>num of ratings</th>\n",
       "    </tr>\n",
       "  </thead>\n",
       "  <tbody>\n",
       "    <tr>\n",
       "      <th>0</th>\n",
       "      <td>A Death in the Family</td>\n",
       "      <td>5.536364</td>\n",
       "      <td>44</td>\n",
       "    </tr>\n",
       "    <tr>\n",
       "      <th>1</th>\n",
       "      <td>A Little Life</td>\n",
       "      <td>5.252475</td>\n",
       "      <td>101</td>\n",
       "    </tr>\n",
       "    <tr>\n",
       "      <th>2</th>\n",
       "      <td>A Visit from The Goon Squad</td>\n",
       "      <td>4.959375</td>\n",
       "      <td>32</td>\n",
       "    </tr>\n",
       "  </tbody>\n",
       "</table>\n",
       "</div>"
      ],
      "text/plain": [
       "                    Book Names   Ratings  num of ratings\n",
       "0        A Death in the Family  5.536364              44\n",
       "1                A Little Life  5.252475             101\n",
       "2  A Visit from The Goon Squad  4.959375              32"
      ]
     },
     "execution_count": 299,
     "metadata": {},
     "output_type": "execute_result"
    }
   ],
   "source": [
    "ratings.head(3)"
   ]
  },
  {
   "cell_type": "code",
   "execution_count": 309,
   "id": "f86364dc",
   "metadata": {},
   "outputs": [
    {
     "data": {
      "text/plain": [
       "32"
      ]
     },
     "execution_count": 309,
     "metadata": {},
     "output_type": "execute_result"
    }
   ],
   "source": []
  },
  {
   "cell_type": "code",
   "execution_count": 312,
   "id": "78ef3e6f",
   "metadata": {},
   "outputs": [],
   "source": [
    "def all_calc(rec_df,lencol):\n",
    "    for col in rec_df.columns:\n",
    "        if ratings[ratings['Book Names']=='A Visit from The Goon Squad']['num of ratings'].iloc[0]< lencol:\n",
    "            rec_df = rec_df.drop(col,axis=1)\n",
    "    return dict(rec_df.agg('mean').sort_values(ascending=False)[1:8])"
   ]
  },
  {
   "cell_type": "code",
   "execution_count": 321,
   "id": "6c834cd7",
   "metadata": {},
   "outputs": [
    {
     "name": "stdout",
     "output_type": "stream",
     "text": [
      "\n",
      "|1| Outline by Rachel                          |\n",
      "-----------------------------------------------\n",
      "|2| Fun Home                                   |\n",
      "-----------------------------------------------\n",
      "|3| The Emperor of All Maladies                |\n",
      "-----------------------------------------------\n",
      "|4| Brooklyn                                   |\n",
      "-----------------------------------------------\n",
      "|5| The Sixth Extinction                       |\n",
      "-----------------------------------------------\n",
      "|6| Chronicles: Volume One                     |\n",
      "-----------------------------------------------\n",
      "|7| Experience                                 |\n",
      "-----------------------------------------------\n"
     ]
    }
   ],
   "source": [
    "print()\n",
    "for i,name in enumerate((all_calc(rec_df,len(rec_df)/48).keys())):\n",
    "    print(f'|{i + 1}| {name}{(43 - len(name)) * \" \"}|\\n-----------------------------------------------')"
   ]
  },
  {
   "cell_type": "code",
   "execution_count": 281,
   "id": "de233b03",
   "metadata": {},
   "outputs": [
    {
     "data": {
      "text/plain": [
       "46"
      ]
     },
     "execution_count": 281,
     "metadata": {},
     "output_type": "execute_result"
    }
   ],
   "source": [
    "rec_df['Outline by Rachel'].isna().sum()"
   ]
  },
  {
   "cell_type": "code",
   "execution_count": 322,
   "id": "a79e62ca",
   "metadata": {},
   "outputs": [
    {
     "data": {
      "text/plain": [
       "'                       '"
      ]
     },
     "execution_count": 322,
     "metadata": {},
     "output_type": "execute_result"
    }
   ],
   "source": [
    "' '*23"
   ]
  },
  {
   "cell_type": "code",
   "execution_count": 329,
   "id": "1bb5bf00",
   "metadata": {},
   "outputs": [
    {
     "data": {
      "text/plain": [
       "0       Alain Mabanckou\n",
       "1        Barbara Demick\n",
       "2             Bob Dylan\n",
       "3            Chris Ware\n",
       "4       Daniel Kahneman\n",
       "5          Deborah Levy\n",
       "6      Hanya Yanagihara\n",
       "7         Helen Dunmore\n",
       "8            JK Rowling\n",
       "9       Jenny Erpenbeck\n",
       "10            Jim Crace\n",
       "11           Lorna Sage\n",
       "12               M John\n",
       "13     Malcolm Gladwell\n",
       "14     Malorie Blackman\n",
       "15           NK Jemisin\n",
       "16          Neil Gaiman\n",
       "17        Nicola Barker\n",
       "18          Nora Ephron\n",
       "19       Olga Tokarczuk\n",
       "20    Patricia Lockwood\n",
       "21      Richard Dawkins\n",
       "22    Richard Wilkinson\n",
       "23      Sebastian Barry\n",
       "24      Shoshana Zuboff\n",
       "25        Stieg Larsson\n",
       "26           Ted Chiang\n",
       "27     Valeria Luiselli\n",
       "28     Yanis Varoufakis\n",
       "29         Yuri Herrera\n",
       "Name: Authors, dtype: object"
      ]
     },
     "execution_count": 329,
     "metadata": {},
     "output_type": "execute_result"
    }
   ],
   "source": [
    "df['Authors'].mode()"
   ]
  },
  {
   "cell_type": "code",
   "execution_count": null,
   "id": "f2405c1f",
   "metadata": {},
   "outputs": [],
   "source": []
  }
 ],
 "metadata": {
  "kernelspec": {
   "display_name": "Python 3 (ipykernel)",
   "language": "python",
   "name": "python3"
  },
  "language_info": {
   "codemirror_mode": {
    "name": "ipython",
    "version": 3
   },
   "file_extension": ".py",
   "mimetype": "text/x-python",
   "name": "python",
   "nbconvert_exporter": "python",
   "pygments_lexer": "ipython3",
   "version": "3.9.13"
  }
 },
 "nbformat": 4,
 "nbformat_minor": 5
}
